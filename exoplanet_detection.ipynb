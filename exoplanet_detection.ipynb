{
 "cells": [
  {
   "cell_type": "markdown",
   "id": "624db19a",
   "metadata": {},
   "source": [
    "\n",
    "# Exoplanet Detection using Light Curves \n",
    "\n",
    "This notebook demonstrates how to process light curve data from Kepler/TESS missions, \n",
    "visualize the flux, and train a simple deep learning model to detect exoplanet transits.\n"
   ]
  },
  {
   "cell_type": "code",
   "execution_count": null,
   "id": "3c080ae1",
   "metadata": {},
   "outputs": [],
   "source": [
    "\n",
    "import numpy as np\n",
    "import pandas as pd\n",
    "import matplotlib.pyplot as plt\n",
    "import tensorflow as tf\n",
    "from tensorflow.keras.models import Sequential\n",
    "from tensorflow.keras.layers import Conv1D, MaxPooling1D, Flatten, Dense, Dropout, LSTM\n",
    "from sklearn.model_selection import train_test_split\n"
   ]
  },
  {
   "cell_type": "code",
   "execution_count": null,
   "id": "d85dadc7",
   "metadata": {},
   "outputs": [],
   "source": [
    "\n",
    "# Load example Kepler light curve CSV (replace with your dataset)\n",
    "# Example format: columns -> [time, flux]\n",
    "data = pd.read_csv(\"light_curve.csv\")\n",
    "\n",
    "# Visualize\n",
    "plt.figure(figsize=(10,5))\n",
    "plt.plot(data['time'], data['flux'], color='blue')\n",
    "plt.xlabel(\"Time (days)\")\n",
    "plt.ylabel(\"Flux (brightness)\")\n",
    "plt.title(\"Light Curve Example\")\n",
    "plt.show()\n"
   ]
  },
  {
   "cell_type": "code",
   "execution_count": null,
   "id": "77749257",
   "metadata": {},
   "outputs": [],
   "source": [
    "\n",
    "# Normalize flux\n",
    "flux = (data['flux'] - np.mean(data['flux'])) / np.std(data['flux'])\n",
    "\n",
    "# Example: split into sequences\n",
    "X = []\n",
    "y = []  # 0 = no transit, 1 = transit (for supervised learning)\n",
    "seq_len = 200\n",
    "\n",
    "for i in range(len(flux) - seq_len):\n",
    "    X.append(flux[i:i+seq_len])\n",
    "    y.append(0)  # Placeholder: replace with actual labels\n",
    "\n",
    "X = np.array(X).reshape(-1, seq_len, 1)\n",
    "y = np.array(y)\n"
   ]
  },
  {
   "cell_type": "code",
   "execution_count": null,
   "id": "fcc75755",
   "metadata": {},
   "outputs": [],
   "source": [
    "\n",
    "# Simple 1D CNN model for light curve classification\n",
    "model = Sequential([\n",
    "    Conv1D(16, 5, activation='relu', input_shape=(X.shape[1], 1)),\n",
    "    MaxPooling1D(2),\n",
    "    Conv1D(32, 5, activation='relu'),\n",
    "    MaxPooling1D(2),\n",
    "    Flatten(),\n",
    "    Dense(64, activation='relu'),\n",
    "    Dropout(0.3),\n",
    "    Dense(1, activation='sigmoid')\n",
    "])\n",
    "\n",
    "model.compile(optimizer='adam', loss='binary_crossentropy', metrics=['accuracy'])\n",
    "model.summary()\n"
   ]
  },
  {
   "cell_type": "code",
   "execution_count": null,
   "id": "62ef0966",
   "metadata": {},
   "outputs": [],
   "source": [
    "\n",
    "# Train/test split\n",
    "X_train, X_test, y_train, y_test = train_test_split(X, y, test_size=0.2, random_state=42)\n",
    "\n",
    "# Train model (example small epochs for testing)\n",
    "history = model.fit(X_train, y_train, validation_data=(X_test, y_test), epochs=5, batch_size=32)\n"
   ]
  },
  {
   "cell_type": "code",
   "execution_count": null,
   "id": "10457afc",
   "metadata": {},
   "outputs": [],
   "source": [
    "\n",
    "# Predict\n",
    "preds = model.predict(X_test[:10])\n",
    "\n",
    "print(\"Predictions:\", preds.flatten())\n",
    "\n",
    "# Plot first sequence example\n",
    "plt.plot(X_test[0])\n",
    "plt.title(f\"Predicted: {preds[0][0]:.2f}\")\n",
    "plt.show()\n"
   ]
  }
 ],
 "metadata": {
  "language_info": {
   "name": "python"
  }
 },
 "nbformat": 4,
 "nbformat_minor": 5
}
